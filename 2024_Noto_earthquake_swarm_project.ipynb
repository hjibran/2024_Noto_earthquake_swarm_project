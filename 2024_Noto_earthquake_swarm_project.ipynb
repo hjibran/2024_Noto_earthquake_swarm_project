{
 "cells": [
  {
   "cell_type": "markdown",
   "metadata": {},
   "source": [
    "# <center>Noto 7.5 Mw 2024 Earthquake Project</center>\n",
    "<center>by: Haidir Jibran</center>\n",
    "<center>haidirjibran@gmail.com</center>"
   ]
  },
  {
   "cell_type": "markdown",
   "metadata": {},
   "source": [
    "Noto 4.5 Mw 2024 merupakan gempa bumi besar yang sangat merusak diwilayah utara kepulauan jepang......."
   ]
  },
  {
   "cell_type": "markdown",
   "metadata": {},
   "source": [
    "<b>1. Import Module and Library</b>"
   ]
  },
  {
   "cell_type": "code",
   "execution_count": null,
   "metadata": {},
   "outputs": [],
   "source": [
    "import os\n",
    "import matplotlib.pyplot as plt\n",
    "import matplotlib.image as img\n",
    "\n",
    "from obspy import UTCDateTime\n",
    "from obspy.clients.fdsn import Client"
   ]
  },
  {
   "cell_type": "markdown",
   "metadata": {},
   "source": [
    "<b>2. Mengambil Event Gempa Noto 7.5 Mw 2024</b>\n",
    "\n",
    "Menurut Wikipedia, gempa ini terjadi pada wilayah semenanjung Noto Jepang yang berada pada koordinat 37.488N,137.271E yang terjadi pada 1 januari 2024 pukul 16.10 waktu setempat (07.10 UTC) https://en.wikipedia.org/wiki/2024_Noto_earthquake"
   ]
  },
  {
   "cell_type": "markdown",
   "metadata": {},
   "source": [
    "Mendefinisikan variabel yang telah diketahui"
   ]
  },
  {
   "cell_type": "code",
   "execution_count": null,
   "metadata": {},
   "outputs": [],
   "source": [
    "latitude = 37.488\n",
    "longitude = 137.217\n",
    "eventtime = UTCDateTime('2024-01-01T16:10:00+09')"
   ]
  },
  {
   "cell_type": "code",
   "execution_count": null,
   "metadata": {},
   "outputs": [],
   "source": [
    "client = Client('IRIS')\n",
    "event = client.get_events(starttime=eventtime-10, endtime=eventtime+10, longitude=longitude, latitude=latitude, maxradius=0.5)\n",
    "print(event)\n",
    "event.plot(projection='ortho', title=\"Noto 4.5 Mw 2024\")\n",
    "plt.close()\n",
    "\n",
    "print(event[0].origins)"
   ]
  },
  {
   "cell_type": "markdown",
   "metadata": {},
   "source": [
    "base on A topographic map of Japan :https://en.wikipedia.org/wiki/Japan#/media/File:Japan_topo_en.jpg range of coordinate japan is 125-150E and 25-50N\n",
    "\n",
    "here we want to plot the whole event in japan for 5 years lately (aug 2019 - aug 2024) for know the sesmicity in japan and the position of the event we want to analisys"
   ]
  },
  {
   "cell_type": "code",
   "execution_count": null,
   "metadata": {},
   "outputs": [],
   "source": [
    "os.system('./FetchEvent -s 2019-08-01,00:00:00 -e 2024-08-31,00:00:00 --lon 125:150 --lat 25:50 --mag 4:10 -o ./data/whole_japan.txt')\n",
    "os.system('gmt gmtset PS_MEDIA = archE')\n",
    "os.system('gmt pscoast -R123/152/23/52 -JM15 -Ba5g5/a5g5:.\"Japan Seismicity\":WESN -Ggray -K > ./postscript/whole_japan.ps')\n",
    "os.system(\"awk -F'|' '{print $4,$3}' ./data/whole_japan.txt | gmt psxy -R -J -Sc0.1 -Gred4 -O -K >> ./postscript/whole_japan.ps\")\n",
    "os.system('echo 137.264 37.489 | gmt psxy -R -J -Sa1 -Gyellow -O >> ./postscript/whole_japan.ps')\n",
    "os.system('gmt psconvert ./postscript/whole_japan.ps -A -Tg')\n",
    "plot_whole_japan=img.imread('./postscript/whole_japan.png')\n",
    "plt.axis('off')\n",
    "plt.imshow(plot_whole_japan)\n",
    "plt.show()\n",
    "plt.close()"
   ]
  },
  {
   "cell_type": "code",
   "execution_count": null,
   "metadata": {},
   "outputs": [],
   "source": [
    "#os.system('./FetchEvent -s 2019-08-01,00:00:00 -e 2024-08-31,00:00:00 --lon 130:150 --lat 35:40 --mag 4:10 -o ./data/crosec.txt')\n",
    "os.system('gmt gmtset PS_MEDIA = archE')\n",
    "os.system('gmt pscoast -R123/152/23/52 -JM15 -Ba5g5/a5g5:.\"Cross Section\":WESN -Ggray -K > ./postscript/crosec.ps')\n",
    "os.system(\"awk -F'|' '{print $4,$3}' ./data/whole_japan.txt | gmt psxy -R -J -Sc0.1 -Gred4 -O -K >> ./postscript/crosec.ps\")\n",
    "os.system(\"awk -F'|' '{print $4,$3}' ./data/crosec.txt | gmt psxy -R -J -Sc0.1 -Gblue -O -K >> ./postscript/crosec.ps\")\n",
    "os.system('echo 137.264 37.489 | gmt psxy -R -J -Sa1 -Gyellow -O >> ./postscript/crosec.ps')\n",
    "os.system('gmt psconvert ./postscript/crosec.ps -A -Tg')\n",
    "plot_crosec=img.imread('./postscript/crosec.png')\n",
    "plt.axis('off')\n",
    "plt.imshow(plot_crosec)\n",
    "plt.show()\n",
    "plt.close()\n",
    "\n",
    "os.system(\"awk -F'|' '{print $4,$5*-1}' ./data/crosec.txt | gmt psxy -R130/150/-500/0 -JX10/4 -Ba5g5:Longitude:/a100g100:'Depth (Km)'::.'Cross Section':WeSn -Sc0.1 -Gblue -K > ./postscript/xsec.ps\")\n",
    "os.system('echo 137.264 -10 | gmt psxy -R -J -Sa0.5 -Gyellow -O >> ./postscript/xsec.ps')\n",
    "os.system('gmt psconvert ./postscript/xsec.ps -A -Tg')\n",
    "plot_xsec=img.imread('./postscript/xsec.png')\n",
    "plt.axis('off')\n",
    "plt.imshow(plot_xsec)\n",
    "plt.show()"
   ]
  }
 ],
 "metadata": {
  "kernelspec": {
   "display_name": ".venv",
   "language": "python",
   "name": "python3"
  },
  "language_info": {
   "codemirror_mode": {
    "name": "ipython",
    "version": 3
   },
   "file_extension": ".py",
   "mimetype": "text/x-python",
   "name": "python",
   "nbconvert_exporter": "python",
   "pygments_lexer": "ipython3",
   "version": "3.10.12"
  }
 },
 "nbformat": 4,
 "nbformat_minor": 2
}
