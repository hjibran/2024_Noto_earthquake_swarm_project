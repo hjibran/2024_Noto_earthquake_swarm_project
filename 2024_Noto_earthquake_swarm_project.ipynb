{
 "cells": [
  {
   "cell_type": "markdown",
   "metadata": {},
   "source": [
    "# <center>Noto 7.5 Mw 2024 Earthquake Project</center>\n",
    "<center>by: Haidir Jibran</center>\n",
    "<center>haidirjibran@gmail.com</center>"
   ]
  },
  {
   "cell_type": "markdown",
   "metadata": {},
   "source": [
    "Noto 4.5 Mw 2024 merupakan gempa bumi besar yang sangat merusak diwilayah utara kepulauan jepang......."
   ]
  },
  {
   "cell_type": "markdown",
   "metadata": {},
   "source": [
    "<b>1. Import Module and Library</b>"
   ]
  },
  {
   "cell_type": "code",
   "execution_count": 43,
   "metadata": {},
   "outputs": [],
   "source": [
    "import os\n",
    "import tqdm\n",
    "import warnings\n",
    "import pandas as pd\n",
    "from glob import glob\n",
    "import seismosocialdistancing\n",
    "\n",
    "import matplotlib.pyplot as plt\n",
    "import matplotlib.image as img\n",
    "\n",
    "from obspy import UTCDateTime\n",
    "from obspy import read\n",
    "from obspy.clients.fdsn import Client\n",
    "from obspy.clients.fdsn.client import FDSNNoDataException\n",
    "from obspy.signal import PPSD"
   ]
  },
  {
   "cell_type": "code",
   "execution_count": 44,
   "metadata": {},
   "outputs": [],
   "source": [
    "eventlatitude = 37.488\n",
    "eventlongitude = 137.217\n",
    "eventtime = UTCDateTime('2024-01-01T16:10:00+09')"
   ]
  },
  {
   "cell_type": "code",
   "execution_count": null,
   "metadata": {},
   "outputs": [],
   "source": [
    "client = Client('IRIS')\n",
    "event = client.get_events(starttime=eventtime-10, endtime=eventtime+10, longitude=eventlongitude, latitude=eventlatitude, maxradius=0.5)\n",
    "print(event)\n",
    "event.plot(projection='ortho', title=\"Noto 4.5 Mw 2024\")\n",
    "plt.close()\n",
    "\n",
    "print(event[0].origins)"
   ]
  },
  {
   "cell_type": "code",
   "execution_count": null,
   "metadata": {},
   "outputs": [],
   "source": [
    "#os.system('wget -P ./data/ \"http://geodesy.unr.edu/gps_timeseries/tenv3/plates/EU/J971.EU.tenv3\"')\n",
    "os.system(\"awk 'NR>1{print $3,$9}' ./data/J971.EU.tenv3 | gmt minmax\")\n",
    "os.system(\"awk 'NR>1{print $3,$11}' ./data/J971.EU.tenv3 | gmt minmax\")\n",
    "os.system(\"awk 'NR>1{print $3,$13}' ./data/J971.EU.tenv3 | gmt minmax\")"
   ]
  },
  {
   "cell_type": "code",
   "execution_count": null,
   "metadata": {},
   "outputs": [],
   "source": [
    "os.system('gmt gmtset PS_PAGE_ORIENTATION = portrait') # set paper orientation\n",
    "os.system('gmt gmtset PS_MEDIA = letter') # set paper size\n",
    "os.system('gmt gmtset PROJ_LENGTH_UNIT = inch') # set which unit that we use\n",
    "\n",
    "# plot easting component\n",
    "os.system(\"gmt psbasemap -JX6/1.5 -R2009/2024.7/0.6/1.5 -Ba2:years:/a0.2:meters::.'J971 eastings':WeSn -X1.25 -Y8 -K > ./postscript/plot_gps.ps\") # define range of border, range of axis, marker, title, and position of baseplot on the paper\n",
    "os.system(\"awk 'NR>1{print $3,$9}' ./data/J971.EU.tenv3 | gmt psxy -J -R -Sc0.01 -Gblue -O -K >> ./postscript/plot_gps.ps\") # plot the scatter of data\n",
    "\\\n",
    "# plot northing component\n",
    "os.system(\"gmt psbasemap -JX6/1.5 -R2009/2024.7/0.3/1.0 -Ba2:years:/a0.2:meters::.'J971 northings':WeSn -X0 -Y-3 -O -K >> ./postscript/plot_gps.ps\") # define range of border, range of axis, marker, title, and position of baseplot on the paper\n",
    "os.system(\"awk 'NR>1{print $3,$11}' ./data/J971.EU.tenv3 | gmt psxy -J -R -Sc0.01 -Gblue -O -K >> ./postscript/plot_gps.ps\") # plot the scatter of data\n",
    "\n",
    "# plot vertical component\n",
    "os.system(\"gmt psbasemap -JX6/1.5 -R2009/2024.7/-0.05/1.45 -Ba2:years:/a0.2:meters::.'J971 vertical':WeSn -X0 -Y-3 -O -K >> ./postscript/plot_gps.ps\") # define range of border, range of axis, marker, title, and position of baseplot on the paper\n",
    "os.system(\"awk 'NR>1{print $3,$13}' ./data/J971.EU.tenv3 | gmt psxy -J -R -Sc0.01 -Gblue -O >> ./postscript/plot_gps.ps\") # plot the scatter of data\n",
    "\n",
    "os.system('gmt psconvert ./postscript/plot_gps.ps -Tg')\n",
    "plot_plot_gps=img.imread('./postscript/plot_gps.png')\n",
    "plt.axis('off')\n",
    "plt.imshow(plot_plot_gps)\n",
    "plt.show()\n",
    "plt.close()"
   ]
  },
  {
   "cell_type": "markdown",
   "metadata": {},
   "source": [
    "base on A topographic map of Japan :https://en.wikipedia.org/wiki/Japan#/media/File:Japan_topo_en.jpg range of coordinate japan is 125-150E and 25-50N\n",
    "\n",
    "here we want to plot the whole event in japan for 5 years lately (aug 2019 - aug 2024) for know the sesmicity in japan and the position of the event we want to analisys"
   ]
  },
  {
   "cell_type": "code",
   "execution_count": null,
   "metadata": {},
   "outputs": [],
   "source": [
    "#os.system('./FetchEvent -s 2019-08-01,00:00:00 -e 2024-08-31,00:00:00 --lon 125:150 --lat 25:50 --mag 4:10 -o ./data/whole_japan.txt')\n",
    "os.system('gmt gmtset PS_MEDIA = archE')\n",
    "os.system('gmt pscoast -R123/152/23/52 -JM15 -Ba5g5/a5g5:.\"Japan Seismicity\":WESN -Ggray -K > ./postscript/whole_japan.ps')\n",
    "os.system(\"awk -F'|' '{print $4,$3}' ./data/whole_japan.txt | gmt psxy -R -J -Sc0.1 -Gred4 -O -K >> ./postscript/whole_japan.ps\")\n",
    "os.system('echo 137.264 37.489 | gmt psxy -R -J -Sa1 -Gyellow -O >> ./postscript/whole_japan.ps')\n",
    "os.system('gmt psconvert ./postscript/whole_japan.ps -A -Tg')\n",
    "plot_whole_japan=img.imread('./postscript/whole_japan.png')\n",
    "plt.axis('off')\n",
    "plt.imshow(plot_whole_japan)\n",
    "plt.show()\n",
    "plt.close()"
   ]
  },
  {
   "cell_type": "code",
   "execution_count": null,
   "metadata": {},
   "outputs": [],
   "source": [
    "#os.system('./FetchEvent -s 2019-08-01,00:00:00 -e 2024-08-31,00:00:00 --lon 130:150 --lat 35:40 --mag 4:10 -o ./data/crosec.txt')\n",
    "os.system('gmt gmtset PS_MEDIA = archE')\n",
    "os.system('gmt pscoast -R123/152/23/52 -JM15 -Ba5g5/a5g5:.\"Cross Section\":WESN -Ggray -K > ./postscript/crosec.ps')\n",
    "os.system(\"awk -F'|' '{print $4,$3}' ./data/whole_japan.txt | gmt psxy -R -J -Sc0.1 -Gred4 -O -K >> ./postscript/crosec.ps\")\n",
    "os.system(\"awk -F'|' '{print $4,$3}' ./data/crosec.txt | gmt psxy -R -J -Sc0.1 -Gblue -O -K >> ./postscript/crosec.ps\")\n",
    "os.system('echo 137.264 37.489 | gmt psxy -R -J -Sa1 -Gyellow -O >> ./postscript/crosec.ps')\n",
    "os.system('gmt psconvert ./postscript/crosec.ps -A -Tg')\n",
    "plot_crosec=img.imread('./postscript/crosec.png')\n",
    "plt.axis('off')\n",
    "plt.imshow(plot_crosec)\n",
    "plt.show()\n",
    "plt.close()\n",
    "\n",
    "os.system(\"awk -F'|' '{print $4,$5*-1}' ./data/crosec.txt | gmt psxy -R130/150/-500/0 -JX10/4 -Ba5g5:Longitude:/a100g100:'Depth (Km)'::.'Cross Section':WeSn -Sc0.1 -Gblue -K > ./postscript/xsec.ps\")\n",
    "os.system('echo 137.264 -10 | gmt psxy -R -J -Sa0.5 -Gyellow -O >> ./postscript/xsec.ps')\n",
    "os.system('gmt psconvert ./postscript/xsec.ps -A -Tg')\n",
    "plot_xsec=img.imread('./postscript/xsec.png')\n",
    "plt.axis('off')\n",
    "plt.imshow(plot_xsec)\n",
    "plt.show()\n",
    "plt.close()"
   ]
  },
  {
   "cell_type": "code",
   "execution_count": null,
   "metadata": {},
   "outputs": [],
   "source": [
    "# Make sure you take at least a full week (>=7 days) before the first \"ban\"\n",
    "start = UTCDateTime(\"2023-12-04\")\n",
    "# Leaving UTCDateTime() empty means \"now\":\n",
    "end = UTCDateTime(\"2024-01-28\")\n",
    "\n",
    "near_stations = client.get_stations(starttime=start, endtime=end, \n",
    "                                    location=' ,00', channel='BHZ', level='channel', \n",
    "                                    longitude=eventlongitude, latitude=eventlatitude,\n",
    "                                    maxradius=1)\n",
    "\n",
    "fig = near_stations.plot(projection='local', label=False, resolution='h', show=False)\n",
    "event.plot(projection='local', resolution='h', fig=fig)\n",
    "plt.close()"
   ]
  },
  {
   "cell_type": "code",
   "execution_count": null,
   "metadata": {},
   "outputs": [],
   "source": [
    "network = near_stations[0].code\n",
    "station = near_stations[0].stations[0].code\n",
    "location = near_stations[0].stations[0].channels[0].location_code\n",
    "channel = near_stations[0].stations[0].channels[0].code\n",
    "dataset = \"example\"\n",
    "\n",
    "data_provider = \"IRIS\"\n",
    "bans = {\"2024-01-01 07:10\":'Earthquake Event'}\n",
    "\n",
    "datelist = pd.date_range(start.datetime, min(end, UTCDateTime()).datetime, freq=\"D\")"
   ]
  },
  {
   "cell_type": "code",
   "execution_count": null,
   "metadata": {},
   "outputs": [],
   "source": [
    "c = Client(data_provider)\n",
    "\n",
    "nslc = \"{}.{}.{}.{}\".format(network, station, location, channel)\n",
    "# make sure that wildcard characters are not in nslc\n",
    "nslc = nslc.replace(\"*\", \"\").replace(\"?\", \"\")\n",
    "pbar = tqdm.tqdm(datelist)\n",
    "for day in pbar:\n",
    "    datestr = day.strftime(\"%Y-%m-%d\")\n",
    "    fn = \"{}_{}_{}.mseed\".format(dataset, datestr, nslc)\n",
    "    if day != UTCDateTime().datetime and os.path.isfile(fn):\n",
    "        continue\n",
    "    else:\n",
    "        pbar.set_description(\"Fetching %s\" % fn)\n",
    "        try: \n",
    "            st = c.get_waveforms(network, station, location, channel,\n",
    "                                  UTCDateTime(day)-1801, UTCDateTime(day)+86400+1801,\n",
    "                                  attach_response=True)\n",
    "            # the following two lines here prevent a crash when there is no data on a day\n",
    "            if len(st) > 0:\n",
    "                st.write(fn)\n",
    "        except FDSNNoDataException:\n",
    "            pbar.set_description(\"No data on FDSN server for %s\" % fn)\n",
    "            continue\n",
    "        \n",
    "resp = c.get_stations(UTCDateTime(day), network=network, station=station, location=location,\n",
    "                      channel=channel, level=\"response\")\n",
    "print(resp)"
   ]
  },
  {
   "cell_type": "code",
   "execution_count": null,
   "metadata": {},
   "outputs": [],
   "source": [
    "force_reprocess = False\n",
    "pbar = tqdm.tqdm(datelist)\n",
    "for day in pbar:\n",
    "    datestr = day.strftime(\"%Y-%m-%d\")\n",
    "    fn_in = \"{}_{}_{}.mseed\".format(dataset, datestr, nslc)\n",
    "    pbar.set_description(\"Processing %s\" % fn_in)\n",
    "    if not os.path.isfile(fn_in):\n",
    "        continue\n",
    "    stall = read(fn_in, headonly=True)\n",
    "    for mseedid in list(set([tr.id for tr in stall])):\n",
    "        fn_out = \"{}_{}_{}.npz\".format(dataset, datestr, mseedid)\n",
    "        if os.path.isfile(fn_out) and not force_reprocess:\n",
    "            continue\n",
    "        st = read(fn_in, sourcename=mseedid)\n",
    "        st.attach_response(resp)\n",
    "        ppsd = PPSD(st[0].stats, metadata=resp,\n",
    "                    ppsd_length=1800, overlap=0.5,\n",
    "                    period_smoothing_width_octaves=0.025,\n",
    "                    period_step_octaves=0.0125,\n",
    "                    period_limits=(0.008, 50),\n",
    "                    db_bins=(-200, 20, 0.25))\n",
    "        with warnings.catch_warnings():\n",
    "            warnings.simplefilter(\"ignore\")\n",
    "            ppsd.add(st)\n",
    "        ppsd.save_npz(fn_out[:-4])\n",
    "        del st, ppsd\n",
    "    del stall"
   ]
  },
  {
   "cell_type": "code",
   "execution_count": null,
   "metadata": {},
   "outputs": [],
   "source": [
    "ppsds = {}\n",
    "pbar = tqdm.tqdm(datelist)\n",
    "for day in pbar:\n",
    "    datestr = day.strftime(\"%Y-%m-%d\")\n",
    "    fn_pattern = \"{}_{}_*.npz\".format(dataset, datestr)\n",
    "    pbar.set_description(\"Reading %s\" % fn_pattern)\n",
    "    for fn in glob(fn_pattern):\n",
    "        mseedid = fn.replace(\".npz\", \"\").split(\"_\")[-1]\n",
    "        if mseedid not in ppsds:\n",
    "            ppsds[mseedid] = PPSD.load_npz(fn)#, allow_pickle=True)\n",
    "        else:\n",
    "            with warnings.catch_warnings():\n",
    "                warnings.simplefilter(\"ignore\")\n",
    "                ppsds[mseedid].add_npz(fn)#, allow_pickle=True)"
   ]
  },
  {
   "cell_type": "code",
   "execution_count": null,
   "metadata": {},
   "outputs": [],
   "source": [
    "# Define frequency bands of interest:\n",
    "freqs = [(0.1,1.0),(1.0,20.0),(4.0,14.0),(4.0,20.0)]\n",
    "\n",
    "displacement_RMS = {}\n",
    "for mseedid, ppsd in tqdm.tqdm(ppsds.items()):\n",
    "    ind_times = pd.DatetimeIndex([d.datetime for d in ppsd.current_times_used])\n",
    "    data = pd.DataFrame(ppsd.psd_values, index=ind_times, columns=1./ppsd.period_bin_centers)\n",
    "    data = data.sort_index(axis=1)\n",
    "    displacement_RMS[mseedid] = seismosocialdistancing.df_rms(data, freqs, output=\"DISP\")\n",
    "    displacement_RMS[mseedid].to_csv(\"%s.csv\" % mseedid)"
   ]
  },
  {
   "cell_type": "code",
   "execution_count": null,
   "metadata": {},
   "outputs": [],
   "source": [
    "args = {'band':\"1.0-20.0\",  #\"4.0-14.0\",       # might be None or commented (\"4.0-14.0\" per default) or any of the tupples in freqs\n",
    "        'bans':bans,             # might be None or commented\n",
    "        'save':'./',              # might be None or commented or a path \n",
    "        'unit':'nm'\n",
    "       }\n",
    "\n",
    "seismosocialdistancing.plot(displacement_RMS,\n",
    "                            type='gridmaps',\n",
    "                            **args)"
   ]
  }
 ],
 "metadata": {
  "kernelspec": {
   "display_name": ".venv",
   "language": "python",
   "name": "python3"
  },
  "language_info": {
   "codemirror_mode": {
    "name": "ipython",
    "version": 3
   },
   "file_extension": ".py",
   "mimetype": "text/x-python",
   "name": "python",
   "nbconvert_exporter": "python",
   "pygments_lexer": "ipython3",
   "version": "3.10.12"
  }
 },
 "nbformat": 4,
 "nbformat_minor": 2
}
